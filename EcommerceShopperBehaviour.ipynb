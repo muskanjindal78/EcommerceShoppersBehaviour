{
 "cells": [
  {
   "cell_type": "code",
   "execution_count": 1,
   "id": "beb8f2f2",
   "metadata": {
    "_cell_guid": "b1076dfc-b9ad-4769-8c92-a6c4dae69d19",
    "_uuid": "8f2839f25d086af736a60e9eeb907d3b93b6e0e5",
    "execution": {
     "iopub.execute_input": "2023-03-25T07:57:13.037598Z",
     "iopub.status.busy": "2023-03-25T07:57:13.036974Z",
     "iopub.status.idle": "2023-03-25T07:57:13.055765Z",
     "shell.execute_reply": "2023-03-25T07:57:13.054160Z"
    },
    "papermill": {
     "duration": 0.028035,
     "end_time": "2023-03-25T07:57:13.058219",
     "exception": false,
     "start_time": "2023-03-25T07:57:13.030184",
     "status": "completed"
    },
    "tags": []
   },
   "outputs": [
    {
     "name": "stdout",
     "output_type": "stream",
     "text": [
      "/kaggle/input/e-commerce-shoppers-behaviour-understanding/test_data_v2.csv\n",
      "/kaggle/input/e-commerce-shoppers-behaviour-understanding/train_data_v2.csv\n",
      "/kaggle/input/e-commerce-shoppers-behaviour-understanding/sample.csv\n"
     ]
    }
   ],
   "source": [
    "# This Python 3 environment comes with many helpful analytics libraries installed\n",
    "# It is defined by the kaggle/python Docker image: https://github.com/kaggle/docker-python\n",
    "# For example, here's several helpful packages to load\n",
    "\n",
    "import numpy as np # linear algebra\n",
    "import pandas as pd # data processing, CSV file I/O (e.g. pd.read_csv)\n",
    "\n",
    "# Input data files are available in the read-only \"../input/\" directory\n",
    "# For example, running this (by clicking run or pressing Shift+Enter) will list all files under the input directory\n",
    "\n",
    "import os\n",
    "for dirname, _, filenames in os.walk('/kaggle/input'):\n",
    "    for filename in filenames:\n",
    "        print(os.path.join(dirname, filename))\n",
    "\n",
    "# You can write up to 20GB to the current directory (/kaggle/working/) that gets preserved as output when you create a version using \"Save & Run All\" \n",
    "# You can also write temporary files to /kaggle/temp/, but they won't be saved outside of the current session"
   ]
  },
  {
   "cell_type": "code",
   "execution_count": 2,
   "id": "ec08e826",
   "metadata": {
    "execution": {
     "iopub.execute_input": "2023-03-25T07:57:13.066845Z",
     "iopub.status.busy": "2023-03-25T07:57:13.066107Z",
     "iopub.status.idle": "2023-03-25T07:57:14.552892Z",
     "shell.execute_reply": "2023-03-25T07:57:14.551630Z"
    },
    "papermill": {
     "duration": 1.494412,
     "end_time": "2023-03-25T07:57:14.556162",
     "exception": false,
     "start_time": "2023-03-25T07:57:13.061750",
     "status": "completed"
    },
    "tags": []
   },
   "outputs": [],
   "source": [
    "from sklearn.model_selection import train_test_split\n",
    "from sklearn.impute import SimpleImputer\n",
    "from sklearn.preprocessing import LabelEncoder, StandardScaler\n",
    "from sklearn.ensemble import RandomForestClassifier"
   ]
  },
  {
   "cell_type": "code",
   "execution_count": 3,
   "id": "ca704e81",
   "metadata": {
    "execution": {
     "iopub.execute_input": "2023-03-25T07:57:14.565031Z",
     "iopub.status.busy": "2023-03-25T07:57:14.564232Z",
     "iopub.status.idle": "2023-03-25T07:57:14.708842Z",
     "shell.execute_reply": "2023-03-25T07:57:14.707784Z"
    },
    "papermill": {
     "duration": 0.15235,
     "end_time": "2023-03-25T07:57:14.712034",
     "exception": false,
     "start_time": "2023-03-25T07:57:14.559684",
     "status": "completed"
    },
    "tags": []
   },
   "outputs": [],
   "source": [
    "trainData = pd.read_csv(\"/kaggle/input/e-commerce-shoppers-behaviour-understanding/train_data_v2.csv\")\n",
    "testData = pd.read_csv(\"/kaggle/input/e-commerce-shoppers-behaviour-understanding/test_data_v2.csv\")\n",
    "trainData = trainData.reset_index()\n",
    "y = trainData.pop(\"Made_Purchase\")\n",
    "X = trainData\n",
    "td = testData\n",
    "td = td.reset_index()\n",
    "X_column_list = list(X.keys())\n",
    "td_columns_list = list(td.keys())"
   ]
  },
  {
   "cell_type": "code",
   "execution_count": 4,
   "id": "0a3f3ed8",
   "metadata": {
    "execution": {
     "iopub.execute_input": "2023-03-25T07:57:14.720843Z",
     "iopub.status.busy": "2023-03-25T07:57:14.720102Z",
     "iopub.status.idle": "2023-03-25T07:57:14.741953Z",
     "shell.execute_reply": "2023-03-25T07:57:14.740635Z"
    },
    "papermill": {
     "duration": 0.029371,
     "end_time": "2023-03-25T07:57:14.744796",
     "exception": false,
     "start_time": "2023-03-25T07:57:14.715425",
     "status": "completed"
    },
    "tags": []
   },
   "outputs": [],
   "source": [
    "di=dict(X.dtypes)\n",
    "X=X.fillna(np.nan)\n",
    "td=td.fillna(np.nan)\n",
    "catDict = []\n",
    "numDict = []\n",
    "for i,j in di.items():\n",
    "  if j == \"object\":\n",
    "    catDict.append(i)\n",
    "  elif j == \"float\":\n",
    "    numDict.append(i)"
   ]
  },
  {
   "cell_type": "code",
   "execution_count": 5,
   "id": "da54137c",
   "metadata": {
    "execution": {
     "iopub.execute_input": "2023-03-25T07:57:14.753579Z",
     "iopub.status.busy": "2023-03-25T07:57:14.752628Z",
     "iopub.status.idle": "2023-03-25T07:57:14.972504Z",
     "shell.execute_reply": "2023-03-25T07:57:14.971222Z"
    },
    "papermill": {
     "duration": 0.227478,
     "end_time": "2023-03-25T07:57:14.975730",
     "exception": false,
     "start_time": "2023-03-25T07:57:14.748252",
     "status": "completed"
    },
    "tags": []
   },
   "outputs": [],
   "source": [
    "siobj1 = SimpleImputer(missing_values=np.nan,strategy='most_frequent')\n",
    "siobj2 = SimpleImputer(missing_values=np.nan,strategy='most_frequent')\n",
    "\n",
    "X1 = siobj1.fit_transform(X)\n",
    "td1 = siobj2.fit_transform(td)\n",
    "\n",
    "X = pd.DataFrame(X1, columns = X_column_list)\n",
    "td = pd.DataFrame(td1, columns = td_columns_list)"
   ]
  },
  {
   "cell_type": "code",
   "execution_count": 6,
   "id": "f4e99b03",
   "metadata": {
    "execution": {
     "iopub.execute_input": "2023-03-25T07:57:14.983921Z",
     "iopub.status.busy": "2023-03-25T07:57:14.983496Z",
     "iopub.status.idle": "2023-03-25T07:57:15.061864Z",
     "shell.execute_reply": "2023-03-25T07:57:15.060590Z"
    },
    "papermill": {
     "duration": 0.085834,
     "end_time": "2023-03-25T07:57:15.064876",
     "exception": false,
     "start_time": "2023-03-25T07:57:14.979042",
     "status": "completed"
    },
    "tags": []
   },
   "outputs": [],
   "source": [
    "le1 = LabelEncoder()\n",
    "le2 = LabelEncoder()\n",
    "for i in catDict:\n",
    "  X[i] = le1.fit_transform(X[i])\n",
    "  td[i] = le2.fit_transform(td[i])"
   ]
  },
  {
   "cell_type": "code",
   "execution_count": 7,
   "id": "63768006",
   "metadata": {
    "execution": {
     "iopub.execute_input": "2023-03-25T07:57:15.073706Z",
     "iopub.status.busy": "2023-03-25T07:57:15.073250Z",
     "iopub.status.idle": "2023-03-25T07:57:17.374987Z",
     "shell.execute_reply": "2023-03-25T07:57:17.373863Z"
    },
    "papermill": {
     "duration": 2.309705,
     "end_time": "2023-03-25T07:57:17.378051",
     "exception": false,
     "start_time": "2023-03-25T07:57:15.068346",
     "status": "completed"
    },
    "tags": []
   },
   "outputs": [],
   "source": [
    "model = RandomForestClassifier(criterion='gini', n_estimators=100, n_jobs=-2, max_features = 0.80, min_samples_leaf = 8,random_state=152)  \n",
    "model.fit(X,y)\n",
    "Y_pred = model.predict(td)"
   ]
  },
  {
   "cell_type": "code",
   "execution_count": 8,
   "id": "a29bcda5",
   "metadata": {
    "execution": {
     "iopub.execute_input": "2023-03-25T07:57:17.387075Z",
     "iopub.status.busy": "2023-03-25T07:57:17.386650Z",
     "iopub.status.idle": "2023-03-25T07:57:17.406848Z",
     "shell.execute_reply": "2023-03-25T07:57:17.405875Z"
    },
    "papermill": {
     "duration": 0.027779,
     "end_time": "2023-03-25T07:57:17.409468",
     "exception": false,
     "start_time": "2023-03-25T07:57:17.381689",
     "status": "completed"
    },
    "tags": []
   },
   "outputs": [],
   "source": [
    "id = td[\"index\"]\n",
    "new_pred=np.column_stack((id,Y_pred))\n",
    "headerList=[\"id\",\"Made_Purchase\"]\n",
    "pd.DataFrame(new_pred).to_csv(\"submission.csv\", header=headerList, index=False)"
   ]
  },
  {
   "cell_type": "code",
   "execution_count": null,
   "id": "cc525e18",
   "metadata": {
    "papermill": {
     "duration": 0.002845,
     "end_time": "2023-03-25T07:57:17.415623",
     "exception": false,
     "start_time": "2023-03-25T07:57:17.412778",
     "status": "completed"
    },
    "tags": []
   },
   "outputs": [],
   "source": []
  }
 ],
 "metadata": {
  "kernelspec": {
   "display_name": "Python 3",
   "language": "python",
   "name": "python3"
  },
  "language_info": {
   "codemirror_mode": {
    "name": "ipython",
    "version": 3
   },
   "file_extension": ".py",
   "mimetype": "text/x-python",
   "name": "python",
   "nbconvert_exporter": "python",
   "pygments_lexer": "ipython3",
   "version": "3.7.12"
  },
  "papermill": {
   "default_parameters": {},
   "duration": 15.881182,
   "end_time": "2023-03-25T07:57:18.442417",
   "environment_variables": {},
   "exception": null,
   "input_path": "__notebook__.ipynb",
   "output_path": "__notebook__.ipynb",
   "parameters": {},
   "start_time": "2023-03-25T07:57:02.561235",
   "version": "2.4.0"
  }
 },
 "nbformat": 4,
 "nbformat_minor": 5
}
